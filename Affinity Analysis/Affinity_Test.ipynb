{
 "cells": [
  {
   "cell_type": "code",
   "execution_count": 3,
   "metadata": {},
   "outputs": [],
   "source": [
    "# Loading Packages\n",
    "\n",
    "import numpy as np\n",
    "import pandas as pd\n",
    "import matplotlib.pyplot as plt\n",
    "import sklearn\n",
    "from sklearn.decomposition import PCA\n",
    "\n",
    "%matplotlib inline"
   ]
  },
  {
   "cell_type": "code",
   "execution_count": null,
   "metadata": {},
   "outputs": [],
   "source": [
    "def test_data_prep(filepath):\n",
    "    \n",
    "    # load and format data\n",
    "    with open(filepath, 'r') as fp:\n",
    "        data = fp.read()\n",
    "        print('No. of records: ', len(data.split('\\n')))\n",
    "\n",
    "    data_lines = data.split('\\n')\n",
    "    headers = data_lines[0].split('\\t')\n",
    "    data = [d.split('\\t') for d in data_lines[1:]]\n",
    "    \n",
    "    # Create dataframe\n",
    "    df = pd.DataFrame(data=data, columns=np.array(headers))\n",
    "    df = df.set_index('Index')\n",
    "    df.head()\n",
    "    \n",
    "    # Change data types of columns\n",
    "    df[['F1', 'F2', 'F3', 'F4']] = df[['F1', 'F2', 'F3', 'F4']].apply(pd.to_numeric)\n",
    "    df[['F15', 'F16']] = df[['F15', 'F16']].apply(pd.to_datetime)\n",
    "    for col in ['F5', 'F6', 'F7', 'F8', 'F9', 'F10', 'F11', 'F12', 'F13', 'F14', 'F17', 'F18', 'F19', 'F20', 'F21', 'F22']:\n",
    "        df[col] = df[col].astype(np.int64)\n",
    "\n",
    "    df.insert(loc=len(df.columns)-1, column='Date flag', value= (df['F16'] - df['F15']).dt.days)\n",
    "\n",
    "    x = df[['F1', 'F2', 'F3', 'F4', 'F5', 'F6', 'F7', 'F8', 'F9', 'F10', 'F11', 'F12', 'F13', 'F14', 'F17', 'F18', 'F19', 'F20', 'F21', 'F22', 'Date flag']]\n",
    "    \n",
    "    # Drop columns with high multicollinearity\n",
    "    x.drop(['F19'], axis=1, inplace=True)\n",
    "    x.drop(['F20'], axis=1, inplace=True)\n",
    "    \n",
    "    return x\n",
    "\n",
    "X_test = test_data_prep(r'C:\\Users\\User\\Downloads\\BuyAffinity_Test.txt')\n",
    "X_test_std = X_test[['F1', 'F2', 'F3', 'F4', 'F17', 'F18', 'F21', 'F22', 'Date flag']]\n",
    "for col in ['F5', 'F6', 'F7', 'F8', 'F9', 'F10', 'F11', 'F12', 'F13', 'F14', 'F17', 'F18', 'F21', 'F22', 'Date flag']:\n",
    "    X_test_std[col] = standardize(X_test[col])\n",
    "    "
   ]
  },
  {
   "cell_type": "code",
   "execution_count": null,
   "metadata": {},
   "outputs": [],
   "source": [
    "# test data\n",
    "X_test_std.head()"
   ]
  },
  {
   "cell_type": "code",
   "execution_count": null,
   "metadata": {},
   "outputs": [],
   "source": [
    "# finding principle components\n",
    "pca = PCA(n_components=1)\n",
    "\n",
    "pc_F1_F4 = pca.fit_transform(X_test_std[['F1', 'F2', 'F3', 'F4']])\n",
    "pc_F5_F9 = pca.fit_transform(X_test_std[['F5', 'F6', 'F7', 'F8', 'F9']])\n",
    "pc_F10_F14 = pca.fit_transform(X_test_std[['F10', 'F11', 'F12', 'F13', 'F14']])\n",
    "\n",
    "X_test_pca = X_test_std[['F17', 'F18', 'F21', 'F22', 'Date flag']]\n",
    "X_test_pca['pc F1-F4'] = pc_F1_F4\n",
    "X_test_pca['pc1 F5-F9'] = pc_F5_F9[:,0]\n",
    "X_test_pca['pc1 F10-F14'] = pc_F10_F14[:,0]\n",
    "\n",
    "X_test_pca.head()"
   ]
  },
  {
   "cell_type": "code",
   "execution_count": null,
   "metadata": {},
   "outputs": [],
   "source": [
    "# predicting on test data\n",
    "y_pred_test = rf_model.predict(X_test_pca)\n",
    "results_df = pd.DataFrame()\n",
    "results_df['Index'] = X_test_pca.index\n",
    "results_df['prediction'] = y_pred_test\n",
    "results_df = results_df.set_index('Index')"
   ]
  },
  {
   "cell_type": "code",
   "execution_count": null,
   "metadata": {},
   "outputs": [],
   "source": [
    "# saving result to csv file\n",
    "results_df[results_df['prediction'] == 1]\n",
    "results_df.to_csv(r'C:\\Users\\User\\Desktop\\Test_Result.csv')"
   ]
  },
  {
   "cell_type": "code",
   "execution_count": null,
   "metadata": {},
   "outputs": [],
   "source": []
  }
 ],
 "metadata": {
  "kernelspec": {
   "display_name": "Python 3",
   "language": "python",
   "name": "python3"
  },
  "language_info": {
   "codemirror_mode": {
    "name": "ipython",
    "version": 3
   },
   "file_extension": ".py",
   "mimetype": "text/x-python",
   "name": "python",
   "nbconvert_exporter": "python",
   "pygments_lexer": "ipython3",
   "version": "3.6.8"
  }
 },
 "nbformat": 4,
 "nbformat_minor": 2
}
